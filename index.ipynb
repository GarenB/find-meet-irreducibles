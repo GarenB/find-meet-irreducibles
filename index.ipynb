{
 "cells": [
  {
   "cell_type": "code",
   "execution_count": 3,
   "metadata": {},
   "outputs": [],
   "source": [
    "from utils import str_to_bits\n",
    "\n",
    "def convert_dependancies_to_bits(dependancies):\n",
    "    return {bits for e in dependancies if (bits := str_to_bits(e)) is not None}\n",
    "            \n",
    "def remove_intersections(data, universe):\n",
    "    tmp_data = list(data.copy())\n",
    "\n",
    "    for i in range(len(tmp_data)):\n",
    "        for j in range(i + 1, len(tmp_data)):\n",
    "            intersection = tmp_data[i] & tmp_data[j]\n",
    "            if tmp_data[i] != intersection and tmp_data[j] != intersection and intersection in data:\n",
    "                data.remove(intersection)\n",
    "    if universe in data:\n",
    "        data.remove(universe)\n",
    "    return data\n"
   ]
  },
  {
   "cell_type": "code",
   "execution_count": 4,
   "metadata": {},
   "outputs": [],
   "source": [
    "from utils import bits_to_str\n",
    "\n",
    "def find_meet_irreducibles(universe, dependencies):\n",
    "    bits_deps = convert_dependancies_to_bits(dependencies)\n",
    "    universe_in_bits = str_to_bits(universe)\n",
    "    filtered_deps = remove_intersections(bits_deps, universe_in_bits)\n",
    "    return {bits_to_str(bits) for bits in filtered_deps}"
   ]
  },
  {
   "cell_type": "code",
   "execution_count": 5,
   "metadata": {},
   "outputs": [
    {
     "data": {
      "text/plain": [
       "{'A', 'ABC', 'AC', 'BD'}"
      ]
     },
     "execution_count": 5,
     "metadata": {},
     "output_type": "execute_result"
    }
   ],
   "source": [
    "deps = {0, 'A', 'B', 'AC', 'ABC', 'BD', 'ABCD'}\n",
    "universe = 'ABCD'\n",
    "find_meet_irreducibles(universe, deps)"
   ]
  }
 ],
 "metadata": {
  "kernelspec": {
   "display_name": "Python 3",
   "language": "python",
   "name": "python3"
  },
  "language_info": {
   "codemirror_mode": {
    "name": "ipython",
    "version": 3
   },
   "file_extension": ".py",
   "mimetype": "text/x-python",
   "name": "python",
   "nbconvert_exporter": "python",
   "pygments_lexer": "ipython3",
   "version": "3.11.5"
  }
 },
 "nbformat": 4,
 "nbformat_minor": 2
}
